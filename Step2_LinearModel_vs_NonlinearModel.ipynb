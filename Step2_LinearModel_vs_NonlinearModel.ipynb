{
  "nbformat": 4,
  "nbformat_minor": 0,
  "metadata": {
    "colab": {
      "provenance": []
    },
    "kernelspec": {
      "name": "python3",
      "display_name": "Python 3"
    },
    "language_info": {
      "name": "python"
    },
    "gpuClass": "standard",
    "accelerator": "GPU"
  },
  "cells": [
    {
      "cell_type": "code",
      "execution_count": null,
      "metadata": {
        "id": "Qwl960_3Ml9_",
        "colab": {
          "base_uri": "https://localhost:8080/"
        },
        "outputId": "b02a88d7-ea50-4824-f550-df54a462ec05"
      },
      "outputs": [
        {
          "output_type": "stream",
          "name": "stdout",
          "text": [
            "Mounted at /content/drive\n"
          ]
        }
      ],
      "source": [
        "from google.colab import drive\n",
        "drive.mount('/content/drive')"
      ]
    },
    {
      "cell_type": "code",
      "source": [
        "# read dataset\n",
        "import pandas as pd\n",
        "df_train = pd.read_csv(\"/content/drive/My Drive/Delta One Assessment/D1_Project_train.csv\")\n",
        "print(df_train.shape)\n",
        "df_test = pd.read_csv(\"/content/drive/My Drive/Delta One Assessment/D1_Project_test.csv\")\n",
        "print(df_test.shape)"
      ],
      "metadata": {
        "colab": {
          "base_uri": "https://localhost:8080/"
        },
        "id": "-8PD7ULpNToE",
        "outputId": "3ce56762-2c96-463c-d903-a8bbb896b5be"
      },
      "execution_count": null,
      "outputs": [
        {
          "output_type": "stream",
          "name": "stdout",
          "text": [
            "(90000, 68)\n",
            "(19707, 68)\n"
          ]
        }
      ]
    },
    {
      "cell_type": "code",
      "source": [
        "# preprocessing\n",
        "from sklearn import preprocessing\n",
        "from sklearn.model_selection import train_test_split\n",
        "X = df_train.iloc[:,:(-1)]\n",
        "y = df_train['TARGET']\n",
        "X_test = df_test.iloc[:,:(-1)]\n",
        "y_test = df_test['TARGET']\n",
        "\n",
        "# get a validation set\n",
        "X_train, X_valid, y_train, y_valid = train_test_split(X, y, test_size=0.3, random_state=42)\n",
        "print(X_train.shape, X_valid.shape)\n",
        "scaler = preprocessing.StandardScaler().fit(X_train)\n",
        "X = scaler.transform(X)\n",
        "X_train = scaler.transform(X_train)\n",
        "X_valid = scaler.transform(X_valid)\n",
        "X_test = scaler.transform(X_test)\n",
        "print(X.shape, X_train.shape, X_valid.shape, X_test.shape)\n",
        "print(y.shape, y_train.shape, y_valid.shape, y_test.shape)"
      ],
      "metadata": {
        "colab": {
          "base_uri": "https://localhost:8080/"
        },
        "id": "LhZVDo-RSEr8",
        "outputId": "4d44d888-92e1-488e-9e75-39067f6dfda0"
      },
      "execution_count": null,
      "outputs": [
        {
          "output_type": "stream",
          "name": "stdout",
          "text": [
            "(63000, 67) (27000, 67)\n",
            "(90000, 67) (63000, 67) (27000, 67) (19707, 67)\n",
            "(90000,) (63000,) (27000,) (19707,)\n"
          ]
        }
      ]
    },
    {
      "cell_type": "code",
      "source": [
        "# Model1 (baseline): OLS linear regression\n",
        "from sklearn.linear_model import LinearRegression\n",
        "reg = LinearRegression().fit(X_train, y_train)\n",
        "pred = reg.predict(X_valid)\n",
        "print(pred.shape)\n",
        "profit = y_valid[pred>0].sum()\n",
        "print(profit)"
      ],
      "metadata": {
        "colab": {
          "base_uri": "https://localhost:8080/"
        },
        "id": "JGNM21YaN1QZ",
        "outputId": "6406bf55-e175-4cdc-9746-e44ff9e321c8"
      },
      "execution_count": null,
      "outputs": [
        {
          "output_type": "stream",
          "name": "stdout",
          "text": [
            "(27000,)\n",
            "6.140718411\n"
          ]
        }
      ]
    },
    {
      "cell_type": "code",
      "source": [
        "# plot residuals vs fitted values\n",
        "import matplotlib.pyplot as plt\n",
        "fitted = reg.predict(X_train)\n",
        "plt.scatter(fitted,y_train-fitted)\n",
        "plt.xlabel('fitted values')\n",
        "plt.ylabel('residuals')\n",
        "plt.show()\n",
        "\n",
        "# no obvious nonlinearity is found"
      ],
      "metadata": {
        "colab": {
          "base_uri": "https://localhost:8080/",
          "height": 279
        },
        "id": "wVZfmDXsNiRt",
        "outputId": "c8974a83-d437-4a49-d25b-17ce9761c995"
      },
      "execution_count": null,
      "outputs": [
        {
          "output_type": "display_data",
          "data": {
            "text/plain": [
              "<Figure size 432x288 with 1 Axes>"
            ],
            "image/png": "[encoded data removed]"
          },
          "metadata": {
            "needs_background": "light"
          }
        }
      ]
    },
    {
      "cell_type": "code",
      "source": [],
      "metadata": {
        "id": "9S8tf9QM6yOn"
      },
      "execution_count": null,
      "outputs": []
    },
    {
      "cell_type": "code",
      "source": [
        "# Model2: MLP with L2 loss\n",
        "import torch\n",
        "import torch.nn as nn\n",
        "import torch.nn.functional as F\n",
        "from torch.utils.data import Dataset\n",
        "import numpy as np\n",
        "import time\n",
        "device = torch.device(\"cuda:0\" if torch.cuda.is_available() else \"cpu\")\n",
        "print(device)\n",
        "torch.manual_seed(0)\n",
        "\n",
        "input_size = X.shape[1]\n",
        "hidden_size = 8\n",
        "batch_size = 4096\n",
        "ep_num = 200\n",
        "patience = 20\n",
        "trigger_times = 0\n",
        "\n",
        "#network architecture\n",
        "class Perceptron(torch.nn.Module):\n",
        "    def __init__(self, input_size, hidden_size):\n",
        "        super(Perceptron, self).__init__()\n",
        "        self.main = nn.Sequential(\n",
        "            nn.Linear(input_size, hidden_size),\n",
        "            nn.ReLU(),\n",
        "            nn.Linear(hidden_size, 1)\n",
        "            )\n",
        "\n",
        "    def forward(self, x):\n",
        "        return self.main(x)\n",
        "\n",
        "def count_parameters(model):\n",
        "    return sum(p.numel() for p in model.parameters() if p.requires_grad)\n",
        "\n",
        "\n",
        "# Define how we load data\n",
        "class MyDataset(Dataset):\n",
        "    def __init__(self, features, targets):\n",
        "        self.features = features\n",
        "        self.targets = targets\n",
        "\n",
        "    def __len__(self):\n",
        "        return len(self.targets)\n",
        "\n",
        "    def __getitem__(self, idx):\n",
        "        feature = self.features[idx, :]\n",
        "        target = self.targets[idx]\n",
        "        return feature.astype(np.float32), target.astype(np.float32)\n",
        "\n",
        "model = Perceptron(input_size, hidden_size).to(device)\n",
        "print(count_parameters(model))\n",
        "optimizer = torch.optim.SGD(model.parameters(), lr=0.001, weight_decay = 0.5)\n",
        "trainloader = torch.utils.data.DataLoader(MyDataset(X_train,y_train.to_numpy()),\n",
        "                        batch_size=batch_size, shuffle=True)\n",
        "validloader = torch.utils.data.DataLoader(MyDataset(X_valid,y_valid.to_numpy()),\n",
        "                        batch_size=batch_size, shuffle=True)\n",
        "testloader = torch.utils.data.DataLoader(MyDataset(X_test,y_test.to_numpy()),\n",
        "                        batch_size=batch_size, shuffle=True)\n",
        "print(len(trainloader), len(validloader), len(testloader))\n",
        "\n",
        "# calculate the profit\n",
        "def evaluation(model,dataloader):\n",
        "    profit = 0\n",
        "    for i,data in enumerate(dataloader):\n",
        "        feature, target = data\n",
        "        pred = model(feature.to(device))\n",
        "        profit += target.to(device)[pred.squeeze()>0].sum()\n",
        "    return profit"
      ],
      "metadata": {
        "colab": {
          "base_uri": "https://localhost:8080/"
        },
        "id": "2CeG3vL4SyA9",
        "outputId": "9369ffc2-f883-4507-ba00-01b9025af167"
      },
      "execution_count": null,
      "outputs": [
        {
          "output_type": "stream",
          "name": "stdout",
          "text": [
            "cuda:0\n",
            "553\n",
            "16 7 5\n"
          ]
        }
      ]
    },
    {
      "cell_type": "code",
      "source": [
        "start = time.time()\n",
        "PATH = '/content/drive/My Drive/Delta One Assessment/'+'model2.pth'\n",
        "best_profit = evaluation(model, validloader)\n",
        "print('validation set current_profit:', best_profit)\n",
        "for epoch in range(ep_num):\n",
        "    loss_total = 0.0\n",
        "    for i,data in enumerate(trainloader):\n",
        "        feature, target = data\n",
        "        pred = model(feature.to(device))\n",
        "        optimizer.zero_grad()\n",
        "        loss = ((pred-target.to(device))**2).mean()\n",
        "        #loss = torch.abs(pred-target.to(device)).mean()\n",
        "        #loss = torch.maximum(torch.zeros_like(pred).to(device) ,-torch.sign(target.to(device))*(pred)).mean()\n",
        "        loss.backward()\n",
        "        optimizer.step()\n",
        "        loss_total += loss.item()*batch_size\n",
        "    print('Epoch {}: train loss: {}'.format(epoch, loss_total))\n",
        "    current_profit = evaluation(model, validloader)\n",
        "    print('validation set current_profit:', current_profit.item())\n",
        "    if current_profit < best_profit:\n",
        "            trigger_times += 1\n",
        "            print('Trigger Times:', trigger_times)\n",
        "            if trigger_times >= patience:\n",
        "                print('Early stopping')\n",
        "                break\n",
        "    else:\n",
        "        best_profit = current_profit\n",
        "        print('trigger times: 0')\n",
        "        trigger_times = 0\n",
        "        torch.save(model.state_dict(), PATH)\n",
        "\n",
        "print('Time Cost', time.time()-start)"
      ],
      "metadata": {
        "colab": {
          "base_uri": "https://localhost:8080/"
        },
        "id": "zWHnG04vbWpG",
        "outputId": "dd1582e6-2be6-4fc9-989c-b513102f3bef"
      },
      "execution_count": null,
      "outputs": [
        {
          "output_type": "stream",
          "name": "stdout",
          "text": [
            "validation set current_profit: tensor(0.3992, device='cuda:0')\n",
            "Epoch 0: train loss: 8775.787841796875\n",
            "validation set current_profit: 0.4697624742984772\n",
            "trigger times: 0\n",
            "Epoch 1: train loss: 7986.202301025391\n",
            "validation set current_profit: 0.5380436182022095\n",
            "trigger times: 0\n",
            "Epoch 2: train loss: 7233.957061767578\n",
            "validation set current_profit: 0.5899760723114014\n",
            "trigger times: 0\n",
            "Epoch 3: train loss: 6603.230194091797\n",
            "validation set current_profit: 0.559808075428009\n",
            "Trigger Times: 1\n",
            "Epoch 4: train loss: 6041.911468505859\n",
            "validation set current_profit: 0.5141929388046265\n",
            "Trigger Times: 2\n",
            "Epoch 5: train loss: 5527.369171142578\n",
            "validation set current_profit: 0.44488954544067383\n",
            "Trigger Times: 3\n",
            "Epoch 6: train loss: 5081.761505126953\n",
            "validation set current_profit: 0.45559579133987427\n",
            "Trigger Times: 4\n",
            "Epoch 7: train loss: 4676.735046386719\n",
            "validation set current_profit: 0.5804389119148254\n",
            "Trigger Times: 5\n",
            "Epoch 8: train loss: 4293.463623046875\n",
            "validation set current_profit: 0.6078592538833618\n",
            "trigger times: 0\n",
            "Epoch 9: train loss: 3976.111068725586\n",
            "validation set current_profit: 0.5433575510978699\n",
            "Trigger Times: 1\n",
            "Epoch 10: train loss: 3674.7547912597656\n",
            "validation set current_profit: 0.5786752104759216\n",
            "Trigger Times: 2\n",
            "Epoch 11: train loss: 3410.1041259765625\n",
            "validation set current_profit: 0.5462604761123657\n",
            "Trigger Times: 3\n",
            "Epoch 12: train loss: 3160.393295288086\n",
            "validation set current_profit: 0.6290390491485596\n",
            "trigger times: 0\n",
            "Epoch 13: train loss: 2942.2310791015625\n",
            "validation set current_profit: 0.6887588500976562\n",
            "trigger times: 0\n",
            "Epoch 14: train loss: 2741.808822631836\n",
            "validation set current_profit: 0.6839812397956848\n",
            "Trigger Times: 1\n",
            "Epoch 15: train loss: 2549.266098022461\n",
            "validation set current_profit: 0.6524838805198669\n",
            "Trigger Times: 2\n",
            "Epoch 16: train loss: 2385.877197265625\n",
            "validation set current_profit: 0.6425579786300659\n",
            "Trigger Times: 3\n",
            "Epoch 17: train loss: 2230.8764038085938\n",
            "validation set current_profit: 0.6588995456695557\n",
            "Trigger Times: 4\n",
            "Epoch 18: train loss: 2087.0041885375977\n",
            "validation set current_profit: 0.7982426881790161\n",
            "trigger times: 0\n",
            "Epoch 19: train loss: 1957.9443817138672\n",
            "validation set current_profit: 0.8934258818626404\n",
            "trigger times: 0\n",
            "Epoch 20: train loss: 1831.8471984863281\n",
            "validation set current_profit: 1.0361454486846924\n",
            "trigger times: 0\n",
            "Epoch 21: train loss: 1723.5411987304688\n",
            "validation set current_profit: 1.1865208148956299\n",
            "trigger times: 0\n",
            "Epoch 22: train loss: 1617.5609436035156\n",
            "validation set current_profit: 1.189275860786438\n",
            "trigger times: 0\n",
            "Epoch 23: train loss: 1520.7918853759766\n",
            "validation set current_profit: 1.144106149673462\n",
            "Trigger Times: 1\n",
            "Epoch 24: train loss: 1431.9818725585938\n",
            "validation set current_profit: 1.2326081991195679\n",
            "trigger times: 0\n",
            "Epoch 25: train loss: 1351.3138046264648\n",
            "validation set current_profit: 1.2723963260650635\n",
            "trigger times: 0\n",
            "Epoch 26: train loss: 1273.7338485717773\n",
            "validation set current_profit: 1.3853840827941895\n",
            "trigger times: 0\n",
            "Epoch 27: train loss: 1206.98193359375\n",
            "validation set current_profit: 1.2030229568481445\n",
            "Trigger Times: 1\n",
            "Epoch 28: train loss: 1145.8490295410156\n",
            "validation set current_profit: 1.13797128200531\n",
            "Trigger Times: 2\n",
            "Epoch 29: train loss: 1081.2293090820312\n",
            "validation set current_profit: 1.1877117156982422\n",
            "Trigger Times: 3\n",
            "Epoch 30: train loss: 1023.9286880493164\n",
            "validation set current_profit: 1.1700986623764038\n",
            "Trigger Times: 4\n",
            "Epoch 31: train loss: 966.9839019775391\n",
            "validation set current_profit: 1.2894359827041626\n",
            "Trigger Times: 5\n",
            "Epoch 32: train loss: 916.3474235534668\n",
            "validation set current_profit: 1.4501960277557373\n",
            "trigger times: 0\n",
            "Epoch 33: train loss: 869.6911277770996\n",
            "validation set current_profit: 1.448967695236206\n",
            "Trigger Times: 1\n",
            "Epoch 34: train loss: 827.1743354797363\n",
            "validation set current_profit: 1.4645276069641113\n",
            "trigger times: 0\n",
            "Epoch 35: train loss: 785.162239074707\n",
            "validation set current_profit: 1.4399482011795044\n",
            "Trigger Times: 1\n",
            "Epoch 36: train loss: 748.5948181152344\n",
            "validation set current_profit: 1.4661568403244019\n",
            "trigger times: 0\n",
            "Epoch 37: train loss: 709.4176063537598\n",
            "validation set current_profit: 1.5676581859588623\n",
            "trigger times: 0\n",
            "Epoch 38: train loss: 675.8655052185059\n",
            "validation set current_profit: 1.5949196815490723\n",
            "trigger times: 0\n",
            "Epoch 39: train loss: 643.0136947631836\n",
            "validation set current_profit: 1.6636563539505005\n",
            "trigger times: 0\n",
            "Epoch 40: train loss: 613.6226348876953\n",
            "validation set current_profit: 1.6816534996032715\n",
            "trigger times: 0\n",
            "Epoch 41: train loss: 584.2932510375977\n",
            "validation set current_profit: 1.632616400718689\n",
            "Trigger Times: 1\n",
            "Epoch 42: train loss: 557.3157577514648\n",
            "validation set current_profit: 1.5748791694641113\n",
            "Trigger Times: 2\n",
            "Epoch 43: train loss: 532.1572608947754\n",
            "validation set current_profit: 1.4943805932998657\n",
            "Trigger Times: 3\n",
            "Epoch 44: train loss: 507.79050064086914\n",
            "validation set current_profit: 1.4787192344665527\n",
            "Trigger Times: 4\n",
            "Epoch 45: train loss: 483.8351421356201\n",
            "validation set current_profit: 1.4982318878173828\n",
            "Trigger Times: 5\n",
            "Epoch 46: train loss: 464.1695365905762\n",
            "validation set current_profit: 1.4886666536331177\n",
            "Trigger Times: 6\n",
            "Epoch 47: train loss: 444.17925453186035\n",
            "validation set current_profit: 1.4734374284744263\n",
            "Trigger Times: 7\n",
            "Epoch 48: train loss: 424.73680114746094\n",
            "validation set current_profit: 1.4942843914031982\n",
            "Trigger Times: 8\n",
            "Epoch 49: train loss: 406.0904083251953\n",
            "validation set current_profit: 1.4616254568099976\n",
            "Trigger Times: 9\n",
            "Epoch 50: train loss: 388.6884765625\n",
            "validation set current_profit: 1.4878692626953125\n",
            "Trigger Times: 10\n",
            "Epoch 51: train loss: 372.71476554870605\n",
            "validation set current_profit: 1.4845097064971924\n",
            "Trigger Times: 11\n",
            "Epoch 52: train loss: 355.81157875061035\n",
            "validation set current_profit: 1.5557695627212524\n",
            "Trigger Times: 12\n",
            "Epoch 53: train loss: 343.7529716491699\n",
            "validation set current_profit: 1.5645159482955933\n",
            "Trigger Times: 13\n",
            "Epoch 54: train loss: 328.35406494140625\n",
            "validation set current_profit: 1.5676859617233276\n",
            "Trigger Times: 14\n",
            "Epoch 55: train loss: 315.5707836151123\n",
            "validation set current_profit: 1.6906275749206543\n",
            "trigger times: 0\n",
            "Epoch 56: train loss: 301.59814453125\n",
            "validation set current_profit: 1.6762537956237793\n",
            "Trigger Times: 1\n",
            "Epoch 57: train loss: 288.81422424316406\n",
            "validation set current_profit: 1.7284132242202759\n",
            "trigger times: 0\n",
            "Epoch 58: train loss: 278.0165891647339\n",
            "validation set current_profit: 1.7785754203796387\n",
            "trigger times: 0\n",
            "Epoch 59: train loss: 266.39583683013916\n",
            "validation set current_profit: 1.7646671533584595\n",
            "Trigger Times: 1\n",
            "Epoch 60: train loss: 256.68018531799316\n",
            "validation set current_profit: 1.752072811126709\n",
            "Trigger Times: 2\n",
            "Epoch 61: train loss: 246.86780261993408\n",
            "validation set current_profit: 1.846945881843567\n",
            "trigger times: 0\n",
            "Epoch 62: train loss: 236.8553066253662\n",
            "validation set current_profit: 1.8171076774597168\n",
            "Trigger Times: 1\n",
            "Epoch 63: train loss: 227.94310569763184\n",
            "validation set current_profit: 1.7554478645324707\n",
            "Trigger Times: 2\n",
            "Epoch 64: train loss: 218.40399074554443\n",
            "validation set current_profit: 1.7596904039382935\n",
            "Trigger Times: 3\n",
            "Epoch 65: train loss: 210.80913162231445\n",
            "validation set current_profit: 1.6661765575408936\n",
            "Trigger Times: 4\n",
            "Epoch 66: train loss: 203.22479724884033\n",
            "validation set current_profit: 1.5725224018096924\n",
            "Trigger Times: 5\n",
            "Epoch 67: train loss: 194.8909454345703\n",
            "validation set current_profit: 1.6019339561462402\n",
            "Trigger Times: 6\n",
            "Epoch 68: train loss: 187.46764373779297\n",
            "validation set current_profit: 1.5951268672943115\n",
            "Trigger Times: 7\n",
            "Epoch 69: train loss: 180.41028118133545\n",
            "validation set current_profit: 1.5959341526031494\n",
            "Trigger Times: 8\n",
            "Epoch 70: train loss: 173.39460563659668\n",
            "validation set current_profit: 1.5885833501815796\n",
            "Trigger Times: 9\n",
            "Epoch 71: train loss: 167.5458517074585\n",
            "validation set current_profit: 1.606412649154663\n",
            "Trigger Times: 10\n",
            "Epoch 72: train loss: 161.54816246032715\n",
            "validation set current_profit: 1.5466530323028564\n",
            "Trigger Times: 11\n",
            "Epoch 73: train loss: 155.47514533996582\n",
            "validation set current_profit: 1.5265973806381226\n",
            "Trigger Times: 12\n",
            "Epoch 74: train loss: 149.70612621307373\n",
            "validation set current_profit: 1.515819787979126\n",
            "Trigger Times: 13\n",
            "Epoch 75: train loss: 144.94794273376465\n",
            "validation set current_profit: 1.5502418279647827\n",
            "Trigger Times: 14\n",
            "Epoch 76: train loss: 139.52900314331055\n",
            "validation set current_profit: 1.5377963781356812\n",
            "Trigger Times: 15\n",
            "Epoch 77: train loss: 133.97068405151367\n",
            "validation set current_profit: 1.4919170141220093\n",
            "Trigger Times: 16\n",
            "Epoch 78: train loss: 129.26620197296143\n",
            "validation set current_profit: 1.4724334478378296\n",
            "Trigger Times: 17\n",
            "Epoch 79: train loss: 124.49247550964355\n",
            "validation set current_profit: 1.5075995922088623\n",
            "Trigger Times: 18\n",
            "Epoch 80: train loss: 120.12123346328735\n",
            "validation set current_profit: 1.5066872835159302\n",
            "Trigger Times: 19\n",
            "Epoch 81: train loss: 116.22103881835938\n",
            "validation set current_profit: 1.5704419612884521\n",
            "Trigger Times: 20\n",
            "Early stopping\n",
            "Time Cost 52.04404950141907\n"
          ]
        }
      ]
    },
    {
      "cell_type": "code",
      "source": [
        "model.load_state_dict(torch.load(PATH, map_location=torch.device(device)))\n",
        "model.to(device)\n",
        "evaluation(model,validloader)"
      ],
      "metadata": {
        "colab": {
          "base_uri": "https://localhost:8080/"
        },
        "id": "wjFUioqgekCI",
        "outputId": "d8f1b040-4e37-4bde-c9a8-3dd5207dfc38"
      },
      "execution_count": null,
      "outputs": [
        {
          "output_type": "execute_result",
          "data": {
            "text/plain": [
              "tensor(1.8469, device='cuda:0')"
            ]
          },
          "metadata": {},
          "execution_count": 87
        }
      ]
    },
    {
      "cell_type": "code",
      "source": [],
      "metadata": {
        "id": "G-M9Hvc2H4pc"
      },
      "execution_count": null,
      "outputs": []
    },
    {
      "cell_type": "code",
      "source": [],
      "metadata": {
        "id": "SCaI3WrlRxDI"
      },
      "execution_count": null,
      "outputs": []
    }
  ]
}